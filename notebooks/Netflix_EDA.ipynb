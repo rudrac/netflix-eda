{
 "cells": [
  {
   "cell_type": "code",
   "execution_count": null,
   "id": "53b99d6d",
   "metadata": {
    "vscode": {
     "languageId": "markdown"
    }
   },
   "outputs": [],
   "source": []
  },
  {
   "cell_type": "code",
   "execution_count": null,
   "id": "3828eb02",
   "metadata": {
    "vscode": {
     "languageId": "markdown"
    }
   },
   "outputs": [],
   "source": [
    "# 📊 Netflix Movies & TV Shows EDA\n",
    "\n",
    "This notebook explores the Netflix dataset using Pandas and NumPy. We'll clean the data, analyze trends, and visualize insights.\n",
    "\n",
    "## 🔍 Load and Inspect Data\n",
    "```python\n",
    "import pandas as pd\n",
    "df = pd.read_csv('data/netflix_titles.csv')\n",
    "df.head()"
   ]
  }
 ],
 "metadata": {
  "language_info": {
   "name": "python"
  }
 },
 "nbformat": 4,
 "nbformat_minor": 5
}
